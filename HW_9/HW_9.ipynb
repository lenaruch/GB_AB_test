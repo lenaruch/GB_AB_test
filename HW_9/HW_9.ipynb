{
 "cells": [
  {
   "cell_type": "markdown",
   "id": "655407c9-9555-45e1-83eb-6bd934c9f2d4",
   "metadata": {},
   "source": [
    "## Python применение продвинутых методов"
   ]
  },
  {
   "cell_type": "markdown",
   "id": "853897fb-7427-446b-83c0-f77c68fdc693",
   "metadata": {},
   "source": [
    "Проанализируйте результаты эксперимента и напишите свои рекомендации менеджеру.\n",
    "\n",
    "Mobile Games AB Testing with Cookie Cats\n",
    "\n",
    "Данная промежуточная аттестация оценивается по системе \"зачет\" / \"не зачет\". \"Зачет\" ставится, если Слушатель успешно выполнил задание. \"Незачет\" ставится, если Слушатель не выполнил задание.\n",
    "\n"
   ]
  },
  {
   "cell_type": "markdown",
   "id": "e81e18fc-c1bc-4724-aa9c-3f108a675a9b",
   "metadata": {},
   "source": [
    "### Загрузка библиотек"
   ]
  },
  {
   "cell_type": "code",
   "execution_count": 1,
   "id": "d26c876c-c1c2-456c-8a64-99025d934542",
   "metadata": {},
   "outputs": [],
   "source": [
    "from scipy import stats\n",
    "from statsmodels.stats.power import TTestIndPower\n",
    "from statsmodels.stats import proportion\n",
    "import numpy as np\n",
    "import warnings\n",
    "warnings.filterwarnings('ignore')\n",
    "warnings.warn('DelftStack')\n",
    "warnings.warn('Do not show this message')\n",
    "import matplotlib.pyplot as plt\n",
    "import seaborn as sns\n",
    "import pandas as pd"
   ]
  },
  {
   "cell_type": "code",
   "execution_count": 3,
   "id": "14681a02-64b7-4226-a944-5c75c2f53e36",
   "metadata": {},
   "outputs": [
    {
     "data": {
      "text/html": [
       "<div>\n",
       "<style scoped>\n",
       "    .dataframe tbody tr th:only-of-type {\n",
       "        vertical-align: middle;\n",
       "    }\n",
       "\n",
       "    .dataframe tbody tr th {\n",
       "        vertical-align: top;\n",
       "    }\n",
       "\n",
       "    .dataframe thead th {\n",
       "        text-align: right;\n",
       "    }\n",
       "</style>\n",
       "<table border=\"1\" class=\"dataframe\">\n",
       "  <thead>\n",
       "    <tr style=\"text-align: right;\">\n",
       "      <th></th>\n",
       "      <th>userid</th>\n",
       "      <th>version</th>\n",
       "      <th>sum_gamerounds</th>\n",
       "      <th>retention_1</th>\n",
       "      <th>retention_7</th>\n",
       "    </tr>\n",
       "  </thead>\n",
       "  <tbody>\n",
       "    <tr>\n",
       "      <th>0</th>\n",
       "      <td>116</td>\n",
       "      <td>gate_30</td>\n",
       "      <td>3</td>\n",
       "      <td>0</td>\n",
       "      <td>0</td>\n",
       "    </tr>\n",
       "    <tr>\n",
       "      <th>1</th>\n",
       "      <td>337</td>\n",
       "      <td>gate_30</td>\n",
       "      <td>38</td>\n",
       "      <td>1</td>\n",
       "      <td>0</td>\n",
       "    </tr>\n",
       "    <tr>\n",
       "      <th>2</th>\n",
       "      <td>377</td>\n",
       "      <td>gate_40</td>\n",
       "      <td>165</td>\n",
       "      <td>1</td>\n",
       "      <td>0</td>\n",
       "    </tr>\n",
       "    <tr>\n",
       "      <th>3</th>\n",
       "      <td>483</td>\n",
       "      <td>gate_40</td>\n",
       "      <td>1</td>\n",
       "      <td>0</td>\n",
       "      <td>0</td>\n",
       "    </tr>\n",
       "    <tr>\n",
       "      <th>4</th>\n",
       "      <td>488</td>\n",
       "      <td>gate_40</td>\n",
       "      <td>179</td>\n",
       "      <td>1</td>\n",
       "      <td>1</td>\n",
       "    </tr>\n",
       "  </tbody>\n",
       "</table>\n",
       "</div>"
      ],
      "text/plain": [
       "   userid  version  sum_gamerounds  retention_1  retention_7\n",
       "0     116  gate_30               3            0            0\n",
       "1     337  gate_30              38            1            0\n",
       "2     377  gate_40             165            1            0\n",
       "3     483  gate_40               1            0            0\n",
       "4     488  gate_40             179            1            1"
      ]
     },
     "execution_count": 3,
     "metadata": {},
     "output_type": "execute_result"
    }
   ],
   "source": [
    "df = pd.read_excel('результаты А_B.xlsx')\n",
    "df.head()"
   ]
  },
  {
   "cell_type": "code",
   "execution_count": 4,
   "id": "f0d1c170-3104-4745-a5e9-0eb0500369d0",
   "metadata": {},
   "outputs": [
    {
     "name": "stdout",
     "output_type": "stream",
     "text": [
      "<class 'pandas.core.frame.DataFrame'>\n",
      "RangeIndex: 90189 entries, 0 to 90188\n",
      "Data columns (total 5 columns):\n",
      " #   Column          Non-Null Count  Dtype \n",
      "---  ------          --------------  ----- \n",
      " 0   userid          90189 non-null  int64 \n",
      " 1   version         90189 non-null  object\n",
      " 2   sum_gamerounds  90189 non-null  int64 \n",
      " 3   retention_1     90189 non-null  int64 \n",
      " 4   retention_7     90189 non-null  int64 \n",
      "dtypes: int64(4), object(1)\n",
      "memory usage: 3.4+ MB\n"
     ]
    }
   ],
   "source": [
    "df.info()"
   ]
  },
  {
   "cell_type": "code",
   "execution_count": 5,
   "id": "3c6e7a0b-f2fb-42cd-8890-ca28e8ede2b8",
   "metadata": {},
   "outputs": [
    {
     "data": {
      "text/plain": [
       "(90189, 5)"
      ]
     },
     "execution_count": 5,
     "metadata": {},
     "output_type": "execute_result"
    }
   ],
   "source": [
    "df.shape"
   ]
  },
  {
   "cell_type": "code",
   "execution_count": 6,
   "id": "81dde94c-f007-47bf-a45e-b66124b9c1a0",
   "metadata": {},
   "outputs": [
    {
     "data": {
      "text/html": [
       "<div>\n",
       "<style scoped>\n",
       "    .dataframe tbody tr th:only-of-type {\n",
       "        vertical-align: middle;\n",
       "    }\n",
       "\n",
       "    .dataframe tbody tr th {\n",
       "        vertical-align: top;\n",
       "    }\n",
       "\n",
       "    .dataframe thead th {\n",
       "        text-align: right;\n",
       "    }\n",
       "</style>\n",
       "<table border=\"1\" class=\"dataframe\">\n",
       "  <thead>\n",
       "    <tr style=\"text-align: right;\">\n",
       "      <th></th>\n",
       "      <th>userid</th>\n",
       "      <th>sum_gamerounds</th>\n",
       "      <th>retention_1</th>\n",
       "      <th>retention_7</th>\n",
       "    </tr>\n",
       "  </thead>\n",
       "  <tbody>\n",
       "    <tr>\n",
       "      <th>count</th>\n",
       "      <td>9.018900e+04</td>\n",
       "      <td>90189.000000</td>\n",
       "      <td>90189.000000</td>\n",
       "      <td>90189.000000</td>\n",
       "    </tr>\n",
       "    <tr>\n",
       "      <th>mean</th>\n",
       "      <td>4.998412e+06</td>\n",
       "      <td>51.872457</td>\n",
       "      <td>0.445210</td>\n",
       "      <td>0.186065</td>\n",
       "    </tr>\n",
       "    <tr>\n",
       "      <th>std</th>\n",
       "      <td>2.883286e+06</td>\n",
       "      <td>195.050858</td>\n",
       "      <td>0.496992</td>\n",
       "      <td>0.389161</td>\n",
       "    </tr>\n",
       "    <tr>\n",
       "      <th>min</th>\n",
       "      <td>1.160000e+02</td>\n",
       "      <td>0.000000</td>\n",
       "      <td>0.000000</td>\n",
       "      <td>0.000000</td>\n",
       "    </tr>\n",
       "    <tr>\n",
       "      <th>25%</th>\n",
       "      <td>2.512230e+06</td>\n",
       "      <td>5.000000</td>\n",
       "      <td>0.000000</td>\n",
       "      <td>0.000000</td>\n",
       "    </tr>\n",
       "    <tr>\n",
       "      <th>50%</th>\n",
       "      <td>4.995815e+06</td>\n",
       "      <td>16.000000</td>\n",
       "      <td>0.000000</td>\n",
       "      <td>0.000000</td>\n",
       "    </tr>\n",
       "    <tr>\n",
       "      <th>75%</th>\n",
       "      <td>7.496452e+06</td>\n",
       "      <td>51.000000</td>\n",
       "      <td>1.000000</td>\n",
       "      <td>0.000000</td>\n",
       "    </tr>\n",
       "    <tr>\n",
       "      <th>max</th>\n",
       "      <td>9.999861e+06</td>\n",
       "      <td>49854.000000</td>\n",
       "      <td>1.000000</td>\n",
       "      <td>1.000000</td>\n",
       "    </tr>\n",
       "  </tbody>\n",
       "</table>\n",
       "</div>"
      ],
      "text/plain": [
       "             userid  sum_gamerounds   retention_1   retention_7\n",
       "count  9.018900e+04    90189.000000  90189.000000  90189.000000\n",
       "mean   4.998412e+06       51.872457      0.445210      0.186065\n",
       "std    2.883286e+06      195.050858      0.496992      0.389161\n",
       "min    1.160000e+02        0.000000      0.000000      0.000000\n",
       "25%    2.512230e+06        5.000000      0.000000      0.000000\n",
       "50%    4.995815e+06       16.000000      0.000000      0.000000\n",
       "75%    7.496452e+06       51.000000      1.000000      0.000000\n",
       "max    9.999861e+06    49854.000000      1.000000      1.000000"
      ]
     },
     "execution_count": 6,
     "metadata": {},
     "output_type": "execute_result"
    }
   ],
   "source": [
    "df.describe()"
   ]
  },
  {
   "cell_type": "code",
   "execution_count": 7,
   "id": "19940738-0f0c-4f2d-b1ea-26b37ffcb305",
   "metadata": {},
   "outputs": [
    {
     "data": {
      "text/plain": [
       "userid            0\n",
       "version           0\n",
       "sum_gamerounds    0\n",
       "retention_1       0\n",
       "retention_7       0\n",
       "dtype: int64"
      ]
     },
     "execution_count": 7,
     "metadata": {},
     "output_type": "execute_result"
    }
   ],
   "source": [
    "df.isna().sum()"
   ]
  },
  {
   "cell_type": "markdown",
   "id": "df1cf337-6563-4714-a4b3-dce208f967b3",
   "metadata": {},
   "source": [
    "### Пустых данных в выборке нет."
   ]
  },
  {
   "cell_type": "markdown",
   "id": "b9cbabc1-0ab0-405f-93d2-1404e17bbc8f",
   "metadata": {},
   "source": [
    "### Проверим распределение пользователей по группам."
   ]
  },
  {
   "cell_type": "code",
   "execution_count": 8,
   "id": "28b4dff8-87e1-47cc-a632-fbd359dcebf5",
   "metadata": {},
   "outputs": [
    {
     "data": {
      "text/html": [
       "<div>\n",
       "<style scoped>\n",
       "    .dataframe tbody tr th:only-of-type {\n",
       "        vertical-align: middle;\n",
       "    }\n",
       "\n",
       "    .dataframe tbody tr th {\n",
       "        vertical-align: top;\n",
       "    }\n",
       "\n",
       "    .dataframe thead th {\n",
       "        text-align: right;\n",
       "    }\n",
       "</style>\n",
       "<table border=\"1\" class=\"dataframe\">\n",
       "  <thead>\n",
       "    <tr style=\"text-align: right;\">\n",
       "      <th></th>\n",
       "      <th>userid</th>\n",
       "      <th>version</th>\n",
       "    </tr>\n",
       "  </thead>\n",
       "  <tbody>\n",
       "  </tbody>\n",
       "</table>\n",
       "</div>"
      ],
      "text/plain": [
       "Empty DataFrame\n",
       "Columns: [userid, version]\n",
       "Index: []"
      ]
     },
     "execution_count": 8,
     "metadata": {},
     "output_type": "execute_result"
    }
   ],
   "source": [
    "double = df.groupby('userid', as_index=False).agg({'version': pd.Series.nunique}).query('version > 1')\n",
    "double"
   ]
  },
  {
   "cell_type": "markdown",
   "id": "0785179d-253b-44dc-b1dc-1d5382422b33",
   "metadata": {},
   "source": [
    "### Проверим на полные дубли."
   ]
  },
  {
   "cell_type": "code",
   "execution_count": 9,
   "id": "e1e61225-4756-43af-893d-656a054ee0c2",
   "metadata": {},
   "outputs": [
    {
     "data": {
      "text/plain": [
       "0"
      ]
     },
     "execution_count": 9,
     "metadata": {},
     "output_type": "execute_result"
    }
   ],
   "source": [
    "df.duplicated().sum()"
   ]
  },
  {
   "cell_type": "markdown",
   "id": "9b2b785a-8da3-47ea-bed8-653b661e3f6a",
   "metadata": {},
   "source": [
    "#### Дубликатов нет. Система сплитования отработана хорошо."
   ]
  },
  {
   "cell_type": "markdown",
   "id": "8fb3ea06-a943-40a9-993d-c5a64643f40c",
   "metadata": {},
   "source": [
    "### Посчитаем уникальных записей."
   ]
  },
  {
   "cell_type": "code",
   "execution_count": 10,
   "id": "c9c23208-f5a2-4b78-a17e-1fbfa0810853",
   "metadata": {},
   "outputs": [
    {
     "data": {
      "text/plain": [
       "90189"
      ]
     },
     "execution_count": 10,
     "metadata": {},
     "output_type": "execute_result"
    }
   ],
   "source": [
    "df[\"userid\"].nunique()"
   ]
  },
  {
   "cell_type": "code",
   "execution_count": 11,
   "id": "275ac909-8d1d-472e-8e6d-30a7cf8a202e",
   "metadata": {},
   "outputs": [
    {
     "data": {
      "text/html": [
       "<div>\n",
       "<style scoped>\n",
       "    .dataframe tbody tr th:only-of-type {\n",
       "        vertical-align: middle;\n",
       "    }\n",
       "\n",
       "    .dataframe tbody tr th {\n",
       "        vertical-align: top;\n",
       "    }\n",
       "\n",
       "    .dataframe thead th {\n",
       "        text-align: right;\n",
       "    }\n",
       "</style>\n",
       "<table border=\"1\" class=\"dataframe\">\n",
       "  <thead>\n",
       "    <tr style=\"text-align: right;\">\n",
       "      <th></th>\n",
       "      <th>sum_gamerounds</th>\n",
       "      <th>retention_1</th>\n",
       "      <th>retention_7</th>\n",
       "    </tr>\n",
       "  </thead>\n",
       "  <tbody>\n",
       "    <tr>\n",
       "      <th>count</th>\n",
       "      <td>90189.000000</td>\n",
       "      <td>90189.000000</td>\n",
       "      <td>90189.000000</td>\n",
       "    </tr>\n",
       "    <tr>\n",
       "      <th>mean</th>\n",
       "      <td>51.872457</td>\n",
       "      <td>0.445210</td>\n",
       "      <td>0.186065</td>\n",
       "    </tr>\n",
       "    <tr>\n",
       "      <th>std</th>\n",
       "      <td>195.050858</td>\n",
       "      <td>0.496992</td>\n",
       "      <td>0.389161</td>\n",
       "    </tr>\n",
       "    <tr>\n",
       "      <th>min</th>\n",
       "      <td>0.000000</td>\n",
       "      <td>0.000000</td>\n",
       "      <td>0.000000</td>\n",
       "    </tr>\n",
       "    <tr>\n",
       "      <th>25%</th>\n",
       "      <td>5.000000</td>\n",
       "      <td>0.000000</td>\n",
       "      <td>0.000000</td>\n",
       "    </tr>\n",
       "    <tr>\n",
       "      <th>50%</th>\n",
       "      <td>16.000000</td>\n",
       "      <td>0.000000</td>\n",
       "      <td>0.000000</td>\n",
       "    </tr>\n",
       "    <tr>\n",
       "      <th>75%</th>\n",
       "      <td>51.000000</td>\n",
       "      <td>1.000000</td>\n",
       "      <td>0.000000</td>\n",
       "    </tr>\n",
       "    <tr>\n",
       "      <th>max</th>\n",
       "      <td>49854.000000</td>\n",
       "      <td>1.000000</td>\n",
       "      <td>1.000000</td>\n",
       "    </tr>\n",
       "  </tbody>\n",
       "</table>\n",
       "</div>"
      ],
      "text/plain": [
       "       sum_gamerounds   retention_1   retention_7\n",
       "count    90189.000000  90189.000000  90189.000000\n",
       "mean        51.872457      0.445210      0.186065\n",
       "std        195.050858      0.496992      0.389161\n",
       "min          0.000000      0.000000      0.000000\n",
       "25%          5.000000      0.000000      0.000000\n",
       "50%         16.000000      0.000000      0.000000\n",
       "75%         51.000000      1.000000      0.000000\n",
       "max      49854.000000      1.000000      1.000000"
      ]
     },
     "execution_count": 11,
     "metadata": {},
     "output_type": "execute_result"
    }
   ],
   "source": [
    "df[['sum_gamerounds', 'retention_1', 'retention_7']].describe()"
   ]
  },
  {
   "cell_type": "markdown",
   "id": "4e8430b3-b0d7-447c-80c2-5899c0ed211a",
   "metadata": {},
   "source": [
    "### Уберем аномальный выброс в поле sum_gamerounds."
   ]
  },
  {
   "cell_type": "code",
   "execution_count": 12,
   "id": "a67c3ae9-91b8-489a-af44-f9aa95d0d740",
   "metadata": {},
   "outputs": [],
   "source": [
    "df = df[df['sum_gamerounds'] < 49000]"
   ]
  },
  {
   "cell_type": "code",
   "execution_count": 13,
   "id": "a33c8417-8611-4201-843d-6375095bf22c",
   "metadata": {},
   "outputs": [
    {
     "data": {
      "text/plain": [
       "version\n",
       "gate_40    45489\n",
       "gate_30    44699\n",
       "Name: count, dtype: int64"
      ]
     },
     "execution_count": 13,
     "metadata": {},
     "output_type": "execute_result"
    }
   ],
   "source": [
    "df['version'].value_counts()"
   ]
  },
  {
   "cell_type": "markdown",
   "id": "8badce61-954c-42ed-ae30-6333aeb197b2",
   "metadata": {},
   "source": [
    "### Количество пользователей примерно одинаковое"
   ]
  },
  {
   "cell_type": "code",
   "execution_count": 14,
   "id": "a84b50fb-6cdc-49fa-9b8d-d928ac85f247",
   "metadata": {},
   "outputs": [
    {
     "data": {
      "text/plain": [
       "retention_1\n",
       "0    50035\n",
       "1    40153\n",
       "Name: count, dtype: int64"
      ]
     },
     "execution_count": 14,
     "metadata": {},
     "output_type": "execute_result"
    }
   ],
   "source": [
    "df['retention_1'].value_counts()"
   ]
  },
  {
   "cell_type": "code",
   "execution_count": 15,
   "id": "3a0981e2-1e7a-4869-b95b-424f4d4639d7",
   "metadata": {},
   "outputs": [
    {
     "data": {
      "text/plain": [
       "retention_7\n",
       "0    73408\n",
       "1    16780\n",
       "Name: count, dtype: int64"
      ]
     },
     "execution_count": 15,
     "metadata": {},
     "output_type": "execute_result"
    }
   ],
   "source": [
    "df['retention_7'].value_counts()"
   ]
  },
  {
   "cell_type": "markdown",
   "id": "e9948cca-aecc-4d68-8305-8a2358f6d89c",
   "metadata": {},
   "source": [
    "### Поля retention_1 и retention_7 содержит только 0 или 1, ошибок нет."
   ]
  },
  {
   "cell_type": "code",
   "execution_count": 16,
   "id": "7c54945e-0529-45af-b59f-c71dd6db9540",
   "metadata": {},
   "outputs": [
    {
     "data": {
      "text/html": [
       "<div>\n",
       "<style scoped>\n",
       "    .dataframe tbody tr th:only-of-type {\n",
       "        vertical-align: middle;\n",
       "    }\n",
       "\n",
       "    .dataframe tbody tr th {\n",
       "        vertical-align: top;\n",
       "    }\n",
       "\n",
       "    .dataframe thead th {\n",
       "        text-align: right;\n",
       "    }\n",
       "</style>\n",
       "<table border=\"1\" class=\"dataframe\">\n",
       "  <thead>\n",
       "    <tr style=\"text-align: right;\">\n",
       "      <th></th>\n",
       "      <th>userid</th>\n",
       "      <th>retention_1</th>\n",
       "      <th>retention_7</th>\n",
       "      <th>sum_gamerounds</th>\n",
       "    </tr>\n",
       "    <tr>\n",
       "      <th>version</th>\n",
       "      <th></th>\n",
       "      <th></th>\n",
       "      <th></th>\n",
       "      <th></th>\n",
       "    </tr>\n",
       "  </thead>\n",
       "  <tbody>\n",
       "    <tr>\n",
       "      <th>gate_30</th>\n",
       "      <td>44699</td>\n",
       "      <td>0.448198</td>\n",
       "      <td>0.190183</td>\n",
       "      <td>2294941</td>\n",
       "    </tr>\n",
       "    <tr>\n",
       "      <th>gate_40</th>\n",
       "      <td>45489</td>\n",
       "      <td>0.442283</td>\n",
       "      <td>0.182000</td>\n",
       "      <td>2333530</td>\n",
       "    </tr>\n",
       "  </tbody>\n",
       "</table>\n",
       "</div>"
      ],
      "text/plain": [
       "         userid  retention_1  retention_7  sum_gamerounds\n",
       "version                                                  \n",
       "gate_30   44699     0.448198     0.190183         2294941\n",
       "gate_40   45489     0.442283     0.182000         2333530"
      ]
     },
     "execution_count": 16,
     "metadata": {},
     "output_type": "execute_result"
    }
   ],
   "source": [
    "df.groupby('version').agg({'userid': 'count', 'retention_1': 'mean', 'retention_7': 'mean', 'sum_gamerounds': sum})"
   ]
  },
  {
   "cell_type": "markdown",
   "id": "88c8d907-c1b0-4d2a-8d1f-ebc05efb9c56",
   "metadata": {},
   "source": [
    "### Найдем значения для A/B теста."
   ]
  },
  {
   "cell_type": "code",
   "execution_count": 17,
   "id": "6fc8a495-79df-4a61-a2db-6e309813bd77",
   "metadata": {},
   "outputs": [],
   "source": [
    "A = df.query('version == \"gate_30\"')\n",
    "B = df.query('version == \"gate_40\"')\n",
    "n1 = A.shape[0]\n",
    "n2 = B.shape[0]"
   ]
  },
  {
   "cell_type": "code",
   "execution_count": 18,
   "id": "d5fc28de-7997-4471-8057-be8013a62c08",
   "metadata": {},
   "outputs": [
    {
     "data": {
      "image/png": "[encoded data removed]",
      "text/plain": [
       "<Figure size 500x500 with 1 Axes>"
      ]
     },
     "metadata": {},
     "output_type": "display_data"
    }
   ],
   "source": [
    "plt.figure(figsize = (5, 5))\n",
    "control_visit_all = df['sum_gamerounds'][df['version'] == 'gate_30']\n",
    "test_visit_all = df['sum_gamerounds'][df['version'] == 'gate_40']\n",
    "plt.hist(control_visit_all, color = 'r',bins = 20)\n",
    "plt.hist(test_visit_all, bins = 20)\n",
    "plt.show()"
   ]
  },
  {
   "cell_type": "code",
   "execution_count": 19,
   "id": "23c915f1-938d-4e9a-94db-df4cf4a3b900",
   "metadata": {},
   "outputs": [
    {
     "data": {
      "text/plain": [
       "<Axes: xlabel='sum_gamerounds', ylabel='Count'>"
      ]
     },
     "execution_count": 19,
     "metadata": {},
     "output_type": "execute_result"
    },
    {
     "data": {
      "image/png": "[encoded data removed]",
      "text/plain": [
       "<Figure size 500x500 with 1 Axes>"
      ]
     },
     "metadata": {},
     "output_type": "display_data"
    }
   ],
   "source": [
    "plt.figure(figsize = (5, 5))\n",
    "sns.histplot(data = df, x = 'sum_gamerounds', bins = 20, hue = 'version')"
   ]
  },
  {
   "cell_type": "code",
   "execution_count": 21,
   "id": "1d5085a6-50e7-481b-b35b-e39459f9fb15",
   "metadata": {},
   "outputs": [
    {
     "data": {
      "text/plain": [
       "<Axes: xlabel='version', ylabel='sum_gamerounds'>"
      ]
     },
     "execution_count": 21,
     "metadata": {},
     "output_type": "execute_result"
    },
    {
     "data": {
      "image/png": "[encoded data removed]",
      "text/plain": [
       "<Figure size 500x500 with 1 Axes>"
      ]
     },
     "metadata": {},
     "output_type": "display_data"
    }
   ],
   "source": [
    "plt.figure(figsize = (5, 5))\n",
    "sns.boxplot(data = df[df['retention_1'] == 1], y = 'sum_gamerounds', x = 'version')"
   ]
  },
  {
   "cell_type": "markdown",
   "id": "82cf98bf-48b8-4baf-9e38-f6f3fe08904f",
   "metadata": {},
   "source": [
    "### По графикам видно, что распределения в обоих группах ненормальные, есть выбросы."
   ]
  },
  {
   "cell_type": "markdown",
   "id": "31835960-84a2-4659-af7a-375757c9ba2d",
   "metadata": {},
   "source": [
    "### Для проверки нормальности используем критерий Колмогорова-Смирнова."
   ]
  },
  {
   "cell_type": "code",
   "execution_count": 22,
   "id": "698aaa12-ed02-4724-bfa1-3e779662f6b5",
   "metadata": {},
   "outputs": [
    {
     "data": {
      "text/plain": [
       "KstestResult(statistic=0.8724153079945488, pvalue=0.0, statistic_location=2, statistic_sign=-1)"
      ]
     },
     "execution_count": 22,
     "metadata": {},
     "output_type": "execute_result"
    }
   ],
   "source": [
    "stats.kstest(A['sum_gamerounds'], 'norm')"
   ]
  },
  {
   "cell_type": "code",
   "execution_count": 23,
   "id": "2f137c8b-6f48-438e-8321-56f5622eb8d3",
   "metadata": {},
   "outputs": [
    {
     "data": {
      "text/plain": [
       "KstestResult(statistic=0.8707186187388001, pvalue=0.0, statistic_location=2, statistic_sign=-1)"
      ]
     },
     "execution_count": 23,
     "metadata": {},
     "output_type": "execute_result"
    }
   ],
   "source": [
    "stats.kstest(B['sum_gamerounds'], 'norm')"
   ]
  },
  {
   "cell_type": "markdown",
   "id": "b0877a6e-5b85-4149-824e-af604a4ddaee",
   "metadata": {},
   "source": [
    "### P-value < 0.05 в обоих группах. Данные распределены ненормально, используем критерий Манна-Уитни."
   ]
  },
  {
   "cell_type": "code",
   "execution_count": 24,
   "id": "489dd67e-e3b2-43eb-b5e1-d8bb09262e68",
   "metadata": {},
   "outputs": [
    {
     "data": {
      "text/plain": [
       "MannwhitneyuResult(statistic=1024285761.5, pvalue=0.05089155279145376)"
      ]
     },
     "execution_count": 24,
     "metadata": {},
     "output_type": "execute_result"
    }
   ],
   "source": [
    "stats.mannwhitneyu(x = A['sum_gamerounds'].values, y = B['sum_gamerounds'].values)"
   ]
  },
  {
   "cell_type": "markdown",
   "id": "656f46d4-5b2f-4402-b41f-175f5130ad9e",
   "metadata": {},
   "source": [
    "### При уровне значимости $a$ = 0.05 $p-value$=0.051 больше, следовательно, статистически значимой разницы между группами нет."
   ]
  },
  {
   "cell_type": "markdown",
   "id": "6efc5eb7-0a7c-4298-bceb-9e1267bb88ce",
   "metadata": {},
   "source": [
    "### Посчитаем эффективность наших выборок, чтобы анализировать результаты."
   ]
  },
  {
   "cell_type": "code",
   "execution_count": 25,
   "id": "9a704741-1f02-4cef-9b5a-35bfc5f6cc47",
   "metadata": {},
   "outputs": [],
   "source": [
    "M1 = A['sum_gamerounds'].mean() \n",
    "M2 = B['sum_gamerounds'].mean()\n",
    "D1 = A['sum_gamerounds'].var()\n",
    "D2 = B['sum_gamerounds'].var()"
   ]
  },
  {
   "cell_type": "code",
   "execution_count": 26,
   "id": "a0278f8d-7baf-4858-bb98-0d24f496d688",
   "metadata": {},
   "outputs": [
    {
     "data": {
      "text/plain": [
       "0.0004220261663114191"
      ]
     },
     "execution_count": 26,
     "metadata": {},
     "output_type": "execute_result"
    }
   ],
   "source": [
    "effect_size = (M1 - M2) / np.sqrt(((n1 - 1) * D1 + (n2 - 1) * D2) / (n1 + n2 - 2))\n",
    "effect_size"
   ]
  },
  {
   "cell_type": "code",
   "execution_count": 27,
   "id": "3fc54284-bf72-4ba6-b483-b42d558c80d5",
   "metadata": {},
   "outputs": [
    {
     "data": {
      "text/plain": [
       "0.05046009024737237"
      ]
     },
     "execution_count": 27,
     "metadata": {},
     "output_type": "execute_result"
    }
   ],
   "source": [
    "alpha = 0.05\n",
    "analysis = TTestIndPower()\n",
    "analysis.solve_power(effect_size = effect_size, alpha = alpha, power = None, nobs1 = n1, ratio = n2 / n1)"
   ]
  },
  {
   "cell_type": "markdown",
   "id": "d15ba436-56da-4acd-95f0-aac778390c61",
   "metadata": {},
   "source": [
    "### Эффективность теста равна примерно 5%, с такой эффективностью мы не можем быть уверены в результатах теста. Мы могли не получить статистически значимую разницу, т.к. у нас недостаточный объем выборки."
   ]
  },
  {
   "cell_type": "markdown",
   "id": "d7231f31-cbf9-4202-aedd-f444597be7f3",
   "metadata": {},
   "source": [
    "### Рекомендация - проверить длительность теста, чтобы увеличить объем данных и избегать преждевременной остановки теста."
   ]
  },
  {
   "cell_type": "markdown",
   "id": "ccc77603-52fd-43e2-9c12-e16b9273b836",
   "metadata": {},
   "source": [
    "### Проведем тест на возвращение игрока в игру через 1 день после установки."
   ]
  },
  {
   "cell_type": "code",
   "execution_count": 28,
   "id": "d2c097e4-9bb0-4f78-bfc0-59e615db9486",
   "metadata": {},
   "outputs": [
    {
     "data": {
      "text/plain": [
       "(1.787103509763628, 0.0739207603418346)"
      ]
     },
     "execution_count": 28,
     "metadata": {},
     "output_type": "execute_result"
    }
   ],
   "source": [
    "m1 = A['retention_1'].sum()\n",
    "m2 = B['retention_1'].sum()\n",
    "\n",
    "proportion.proportions_ztest(np.array([m1, m2]), np.array([n1, n2]), alternative='two-sided')"
   ]
  },
  {
   "cell_type": "markdown",
   "id": "c2f25e53-1f51-4719-8d89-dcb7ce6db81c",
   "metadata": {},
   "source": [
    "### При уровне значимости $a$ = 0.05 p-value=0.07 больше, то мы приманием нулевую гипотезу о равенстве доли вернувшихся в игру через 1 день в двух выборках. В группах gate_30 и gate_40 не обнаружены статистически значимые отличия по retention_1."
   ]
  },
  {
   "cell_type": "markdown",
   "id": "f586c848-a7e0-4cac-bf3c-62b2c46b1db8",
   "metadata": {},
   "source": [
    "### Проведем тест на возвращение игрока в игру через 7 день после установки."
   ]
  },
  {
   "cell_type": "code",
   "execution_count": 29,
   "id": "6b74a097-c461-4798-a0a4-d12a952340bf",
   "metadata": {},
   "outputs": [
    {
     "data": {
      "text/plain": [
       "(3.1574100858819936, 0.0015917731773993442)"
      ]
     },
     "execution_count": 29,
     "metadata": {},
     "output_type": "execute_result"
    }
   ],
   "source": [
    "m1 = A.query('retention_7 == 1')['retention_7'].sum()\n",
    "m2 = B.query('retention_7 == 1')['retention_7'].sum()\n",
    "\n",
    "proportion.proportions_ztest(np.array([m1, m2]), np.array([n1, n2]))"
   ]
  },
  {
   "cell_type": "markdown",
   "id": "8b41f560-58c0-4116-909d-021e03b5f3dd",
   "metadata": {},
   "source": [
    "### При уровне значимости $a$ = 0.05 p-value=0.002 меньше, то мы отвергаем нулевую гипотезу о равенстве доли вернувшихся в игру через 7 день в двух выборках. В группах gate_30 и gate_40 обнаружены статистически значимые отличия по retention_7."
   ]
  }
 ],
 "metadata": {
  "kernelspec": {
   "display_name": "Python 3 (ipykernel)",
   "language": "python",
   "name": "python3"
  },
  "language_info": {
   "codemirror_mode": {
    "name": "ipython",
    "version": 3
   },
   "file_extension": ".py",
   "mimetype": "text/x-python",
   "name": "python",
   "nbconvert_exporter": "python",
   "pygments_lexer": "ipython3",
   "version": "3.11.3"
  }
 },
 "nbformat": 4,
 "nbformat_minor": 5
}
