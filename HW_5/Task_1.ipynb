{
 "cells": [
  {
   "cell_type": "markdown",
   "id": "08bab10e-2e38-45c4-af0d-d1ebd992ada1",
   "metadata": {},
   "source": [
    "## Задача 1\n",
    "\n",
    "Вы провели эксперимент c упрощением формы заказа в магазине Утконос и получили результаты по метрике конверсий в покупку. Выберите метод оценки и оцените есть ли стат. значимые различия между конверсиями в двух группах при alpha = 5%. Дайте краткие рекомендации команде.\n",
    "\n",
    "Результаты:\n",
    "1. Число юзеров в группах, которые заходили на сайт в период эксперимента: n1 = 15550 и n2 = 15550;\n",
    "2. Число юзеров в группах, которые совершили хотя бы одну покупку за период эксперимента: n1 = 164 и n2 = 228;\n",
    "3. Конверсии : conv1 = 1.05% и conv2 = 1.47%.\n",
    "\n",
    "   \n",
    "Основаная гипотеза $H_0: p_1 = p_2$\n",
    "\n",
    "Альтернативная гипотеза $H_1: p_1 < p_2$\n",
    "\n",
    "Уровне значимости $\\\\alpha = 0.05$\n",
    "\n",
    "Для данной задачи будем использовать Z-критерий для разности долей:\n",
    "$Z = \\cfrac{p_1 - p_2}{\\sqrt{p (1-p) \\left(\\cfrac{1}{n_1} + \\cfrac{1}{n_2}\\right)}}$, где\n",
    "$p = \\cfrac{m_1 + m_2}{n_1 + n_2}$"
   ]
  },
  {
   "cell_type": "code",
   "execution_count": 4,
   "id": "25157fec-f703-4664-b52e-da171d11388b",
   "metadata": {},
   "outputs": [],
   "source": [
    "import numpy as np\n",
    "from scipy import stats"
   ]
  },
  {
   "cell_type": "code",
   "execution_count": 3,
   "id": "94ae36d1-2b58-481e-9d25-9d268abf119f",
   "metadata": {},
   "outputs": [
    {
     "name": "stdout",
     "output_type": "stream",
     "text": [
      "Наблюдаемое значение z-критерия zn: -3.2531\n",
      "Табличное значение z-критерия zt: 1.6449\n"
     ]
    }
   ],
   "source": [
    "n1 = 15550\n",
    "n2 = 15550 \n",
    "m1 = 164\n",
    "m2 = 228\n",
    "alpha = 0.05\n",
    "\n",
    "p1 = m1 / n1\n",
    "p2 = m2 / n2\n",
    "p = (m1 + m2) / (n1 + n2)\n",
    "\n",
    "zn = (p1 - p2) / np.sqrt(p * (1 - p) * (1 / n1 + 1 / n2))\n",
    "print(f'Наблюдаемое значение z-критерия zn: {round(zn, 4)}')\n",
    "\n",
    "zt = stats.norm.ppf(1 - alpha)\n",
    "print(f'Табличное значение z-критерия zt: {round(zt, 4)}')"
   ]
  },
  {
   "cell_type": "code",
   "execution_count": 5,
   "id": "4508c97c-47f8-48c2-95b1-3bc8048b69a8",
   "metadata": {},
   "outputs": [
    {
     "data": {
      "text/plain": [
       "False"
      ]
     },
     "execution_count": 5,
     "metadata": {},
     "output_type": "execute_result"
    }
   ],
   "source": [
    "abs(zn) < zt"
   ]
  },
  {
   "cell_type": "markdown",
   "id": "599df194-5ce0-4839-883c-9b6e79a17453",
   "metadata": {},
   "source": [
    "Так как абсолютное значение $z_н$ меньше $z_t$ на уровне значимости $\\\\alpha=0.05$, то нулевая гипотеза $H_0$ отвергается. Соответственно изменения внесенные в заказную форму в магазине Утконос дали статистически значимый эффект на уровень конверсии в покупку. Рекомендуется использовать новую форму заказа."
   ]
  }
 ],
 "metadata": {
  "kernelspec": {
   "display_name": "Python 3 (ipykernel)",
   "language": "python",
   "name": "python3"
  },
  "language_info": {
   "codemirror_mode": {
    "name": "ipython",
    "version": 3
   },
   "file_extension": ".py",
   "mimetype": "text/x-python",
   "name": "python",
   "nbconvert_exporter": "python",
   "pygments_lexer": "ipython3",
   "version": "3.11.3"
  }
 },
 "nbformat": 4,
 "nbformat_minor": 5
}
