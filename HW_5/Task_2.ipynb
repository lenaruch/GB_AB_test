{
 "cells": [
  {
   "cell_type": "markdown",
   "id": "a28c3ffc-11ac-4aaa-a2bf-81f0cee87f89",
   "metadata": {},
   "source": [
    "## Задача 2.\n",
    "Сравниваем метрику конверсия в покупку. Размер выборки - 10.000 элементов в каждой группе. Какой статистический критерий тут лучше всего подойдёт и почему?"
   ]
  },
  {
   "cell_type": "markdown",
   "id": "3dfc921e-929f-4a2e-b13d-e9f7491c973f",
   "metadata": {},
   "source": [
    "### Ответ:\n",
    "Для метрики конверсия в покупку, если размер выборки достаточно большой (более 30 элементов в каждой группе) можно использовать Z-критерий. В нашей задаче размер выборки составляет 10.000 элементов в каждой группе, соответственно и используем Z-критерий."
   ]
  }
 ],
 "metadata": {
  "kernelspec": {
   "display_name": "Python 3 (ipykernel)",
   "language": "python",
   "name": "python3"
  },
  "language_info": {
   "codemirror_mode": {
    "name": "ipython",
    "version": 3
   },
   "file_extension": ".py",
   "mimetype": "text/x-python",
   "name": "python",
   "nbconvert_exporter": "python",
   "pygments_lexer": "ipython3",
   "version": "3.11.3"
  }
 },
 "nbformat": 4,
 "nbformat_minor": 5
}
